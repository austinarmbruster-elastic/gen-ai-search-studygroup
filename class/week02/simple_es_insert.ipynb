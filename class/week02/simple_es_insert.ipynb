{
 "cells": [
  {
   "cell_type": "markdown",
   "metadata": {},
   "source": [
    "## Configure connection to Elasticsearch"
   ]
  },
  {
   "cell_type": "code",
   "execution_count": 3,
   "metadata": {},
   "outputs": [
    {
     "name": "stdout",
     "output_type": "stream",
     "text": [
      "You Know, for Search\n"
     ]
    }
   ],
   "source": [
    "import os\n",
    "from dotenv import load_dotenv\n",
    "load_dotenv(\".env\", override=True)\n",
    "\n",
    "from elasticsearch import Elasticsearch\n",
    "\n",
    "es = None\n",
    "\n",
    "if 'ELASTIC_CLOUD_ID' in os.environ:\n",
    "  es = Elasticsearch(\n",
    "    cloud_id=os.environ['ELASTIC_CLOUD_ID'],\n",
    "    basic_auth=(os.environ['ELASTIC_USER'], os.environ['ELASTIC_PASSWORD']),\n",
    "    request_timeout=30\n",
    "  )\n",
    "elif 'ELASTIC_URL' in os.environ:\n",
    "  es = Elasticsearch(\n",
    "    os.environ['ELASTIC_URL'],\n",
    "    basic_auth=(os.environ['ELASTIC_USER'], os.environ['ELASTIC_PASSWORD']),\n",
    "    request_timeout=30\n",
    "  )\n",
    "else:\n",
    "  print(\"env needs to set either ELASTIC_CLOUD_ID or ELASTIC_URL\")\n",
    "\n",
    "if es:\n",
    "    print(es.info()['tagline']) # should return cluster info"
   ]
  },
  {
   "cell_type": "markdown",
   "metadata": {},
   "source": [
    "## Retrieve the data from the pickle file"
   ]
  },
  {
   "cell_type": "code",
   "execution_count": 4,
   "metadata": {},
   "outputs": [
    {
     "data": {
      "text/plain": [
       "{'date': 'February 7, 2023',\n",
       " 'administration': 'Biden',\n",
       " 'url': 'https://www.govinfo.gov/content/pkg/CREC-2023-02-07/html/CREC-2023-02-07-pt1-PgS257-2.htm',\n",
       " 'text': \"\\n\\nCongressional Record, Volume 169 Issue 25 (Tuesday, February 7, 2023)\\n\\n\\n[Congressional Record Volume 169, Number 25 (Tuesday, February 7, 2023)]\\n[Senate]\\n[Pages S257-S262]\\nFrom the Congressional Record Online through the Government Publishing Office [www.gpo.gov]\\n\\n\\n\\n\\n                          PRESIDENTIAL MESSAGE\\n\\n                                 ______\\n                                 \\n\\n   REPORT ON THE STATE OF THE UNION DELIVERED TO A JOINT SESSION OF \\n                   CONGRESS ON FEBRUARY 7, 2023--PM 1\\n\\n  The PRESIDING OFFICER laid before the Senate the following message \\nfrom the President of the United States which was which was ordered to \\nlie on the table:\\n\\nTo the Congress of the United States:\\n  Mr. Speaker. Madam Vice President. Our First Lady and Second \\nGentleman. Members of Congress and the Cabinet. Leaders of our \\nmilitary. Mr. Chief Justice, Associate Justices, and retired Justices \\nof the Supreme Court. And you, my fellow Americans.\\n  I start tonight by congratulating the members of the 118th Congress \\nand the new Speaker of the House, Kevin McCarthy. Mr. Speaker, I look \\nforward to working together.\\n  I also want to congratulate the new leader of the House Democrats and \\nthe first Black House Minority Leader in history, Hakeem Jeffries.\\n  Congratulations to the longest serving Senate leader in history, \\nMitch McConnell.\\n  And congratulations to Chuck Schumer for another term as Senate \\nMajority Leader, this time with an even bigger majority.\\n  And I want to give special recognition to someone who I think will be \\nconsidered the greatest Speaker in the history of this country, Nancy \\nPelosi.\\n  The story of America is a story of progress and resilience. Of always \\nmoving forward. Of never giving up. A story that is unique among all \\nnations.\\n  We are the only country that has emerged from every crisis stronger \\nthan when we entered it. That is what we are doing again.\\n  Two years ago, our economy was reeling. As I stand here tonight--we \\nhave created a record 12 million new jobs--more jobs created in 2 years \\nthan any President has ever created in 4 years.\\n  Two years ago, COVID had shut down our businesses, closed our schools \\nand robbed us of so much. Today, COVID no longer controls our lives.\\n  And 2 years ago, our democracy faced its greatest threat since the \\ncivil War. Today--though bruised--our democracy remains unbowed and \\nunbroken.\\n  As we gather here tonight--we are writing the next chapter in the \\ngreat American story--a story of progress and resilience. When world \\nleaders ask me to define America-- I define our country in one word--\\nPossibilities.\\n  You know, we're often told that Democrats and Republicans can't work \\ntogether. But over these past 2 years we proved the cynics and the \\nnaysayers wrong. Yes, we disagreed plenty. And yes, there were times \\nwhen Democrats had to go it alone.\\n  But time and again, Democrats and Republicans came together. Came \\ntogether to defend a stronger and safer Europe. Came together to pass a \\nonce-in-a-generation infrastructure law--building bridges to connect \\nour Nation and people. Came together to pass one of the most \\nsignificant laws ever--helping veterans exposed to toxic burn pits.\\n  In fact--I signed over 300 bipartisan laws since becoming President--\\nfrom reauthorizing the Violence Against Women Act to the Electoral \\nCount Reform Act to the Respect For Marriage Act--that protects the \\nright to marry the person you love.\\n  To my Republican friends--if we could work together in the last \\nCongress--there is no reason we can't work together in this new \\nCongress. The people sent us a clear message.\\n  Fighting for the sake of fighting--power for the sake of power--\\nconflict for the sake of conflict--gets us nowhere.\\n  And that's always been my vision for our country. To restore the soul \\nof the Nation. To rebuild the backbone of America--the middle class. To \\nunite the country. We've been sent here to--finish the job!\\n  For decades the middle class was hollowed out. Too many good-paying\\n\\n[[Page S258]]\\n\\nmanufacturing jobs moved overseas. Factories at home closed down. Once-\\nthriving cities and towns became shadows of what they used to be. And \\nalong the way something else was lost. Pride. That sense of self-worth.\\n  I ran for President to fundamentally change things--to make sure the \\neconomy works for everyone so we can all feel pride in what we do. To \\nbuild an economy from the bottom up and the middle out--not from the \\ntop down. Because when the middle class does well--the poor have a \\nladder up--and the wealthy still do very well. We all do well.\\n  As my Dad used to say--a job is about a lot more than a paycheck. \\nIt's about your dignity. It's about respect. It's about being able to \\nlook your kid in the eye and say ``Honey--it's going to be OK''--and \\nmean it.\\n  So--let's look at the results. Unemployment rate at 3.4 percent--a \\n50-year low. Near record low unemployment--for Black and Hispanic \\nworkers.\\n  We've already created 800,000 good-paying manufacturing jobs--the \\nfastest growth in 40 years. Where is it written--that America can't \\nlead the world in manufacturing again?\\n  For too many decades we imported products and exported jobs. Now--\\nthanks to all we've done--we're exporting American products and \\ncreating American jobs.\\n  Inflation has been a global problem because of the pandemic that \\ndisrupted supply chains and Putin's war that disrupted energy and food \\nsupplies. But we're better positioned than any country on Earth. We \\nhave more to do--but here at home inflation is coming down! Here at \\nhome--gas prices are down $1.50 a gallon since their peak. Food \\ninflation is coming down. Inflation has fallen every month for the last \\n6 months while take home pay has gone up.\\n  Additionally--over the last 2 years--a record 10 million Americans \\napplied to start a new small business. Every time somebody starts a \\nsmall business--it's an act of hope.\\n  And the Vice President will continue her work to ensure more small \\nbusinesses can access capital and the historic laws we enacted.\\n  Standing here last year--I shared with you a story of--American \\ngenius and possibility. Semiconductors--the small computer chips the \\nsize of your fingertip that power everything from cellphones to \\nautomobiles and so much more. These chips were invented right here in \\nAmerica. America used to make nearly 40 percent of the world's chips. \\nBut in the last few decades we lost our edge and we're down to \\nproducing only 10 percent.\\n  We all saw what happened during the pandemic when chip factories \\noverseas shut down. Today's automobiles need up to 3,000 chips each--\\nbut American automakers couldn't make enough cars because there weren't \\nenough chips. Car prices went up. So did everything from refrigerators \\nto cellphones. We can never let that happen again!\\n  That's why we came together to pass the bipartisan CHIPS and Science \\nAct. We're making sure the supply chain for America begins in America!\\n  We''ve already created 800,000 manufacturing jobs even without this \\nlaw. With this new law--we will create hundreds of thousands of new \\njobs across the country. That's going to come from companies that have \\nannounced more than $300 billion in investments in American \\nmanufacturing in the last 2 years.\\n  Outside of Columbus, Ohio--Intel is building semiconductor factories \\non a thousand acres--a literal field of dreams. That'll create 10,000 \\njobs. 7,000 construction jobs. 3,000 jobs once the factories are \\nfinished. Jobs paying $130,000 a year--and many don't require a college \\ndegree. Jobs where people don't have to leave home in search of \\nopportunity.\\n  And it's just getting started. Think about the new homes--new small \\nbusinesses--and so much more that will come to life. Talk to mayors and \\nGovernors--Democrats and Republicans--and they'll tell you what this \\nmeans to their communities. We're seeing these fields of dreams--\\ntransform the heartland!\\n  But to maintain the strongest economy in the world--we also need the \\nbest infrastructure in the world. We used to be #1 in the world in \\ninfrastructure--then we fell to 13th.\\n  Now we're coming back because we came together to pass the Bipartisan \\nInfrastructure Law--the largest investment in infrastructure since \\nPresident Eisenhower's Interstate Highway system.\\n  Already--we've funded over 20,000 projects--including at major \\nairports from Boston to Atlanta to Portland. These projects will put \\nhundreds of thousands of people to work rebuilding our highways--\\nbridges--railroads--tunnels--ports and airports--clean water--and high-\\nspeed internet--across America. Urban. Suburban. Rural. Tribal.\\n  And we're just getting started. I sincerely thank my Republican \\nfriends who voted for the law. And to my Republican friends who voted \\nagainst it but still ask to fund projects in their districts--don't \\nworry. I promised to be the President for all Americans. We'll fund \\nyour projects. And--I'll see you at the ground-breaking.\\n  This law will help further unite all of America. Major projects like \\nthe Brent Spence bridge between Kentucky and Ohio--over the Ohio River. \\nBuilt 60 years ago. Badly in need of repairs. One of the Nation's most \\ncongested freight routes--carrying $2 billion worth of freight every \\nday. Folks have been talking about fixing it for decades but we're \\nfinally going to get it done.\\n  I went there last month with Democrats and Republicans from both \\nStates to deliver $1.6 billion for this project. While I was there I \\nmet an ironworker named Saria--who is here tonight. For 30 years she's \\nbeen a proud member of Iron Workers Local 44--known as the ``cowboys of \\nthe sky''--who built the Cincinnati skyline. Saria said she can't wait \\nto be ten stories above the Ohio River building that new bridge. That's \\npride. That's what we're also building--pride.\\n  We're also replacing poisonous lead pipes that go into 10 million \\nhomes--and 400,000 schools and childcare centers--so every child in \\nAmerica can drink clean water!\\n  We're making sure that every community has access to affordable high-\\nspeed Internet. No parent should have to drive to a McDonald's parking \\nlot so their kid can do their homework online.\\n  And when we do these projects--we're going to Buy American. Buy \\nAmerican has been the law of the land since 1933. But for too long past \\nadministrations have found ways to get around it. Not anymore.\\n  Tonight--I'm also announcing new standards to require all \\nconstruction materials used in Federal infrastructure projects to be \\nmade in America. American-made--lumber--glass--drywall--fiber optic \\ncables. And on my watch--American roads--American bridges--and American \\nhighways will be made with American products.\\n  My economic plan is about investing in places and people that have \\nbeen forgotten. Amid the economic upheaval of the past four decades--\\ntoo many people have been left behind--or treated like they're \\ninvisible. Maybe that's you watching at home. You remember the jobs \\nthat went away. And you wonder whether a path even exists anymore for \\nyou and your children to get ahead--without moving away. I get it. \\nThat's why we're building an economy where no one is left behind.\\n  Jobs are coming back--pride is coming back--because of the choices we \\nmade in the last 2 years. This is a blue-collar blue print--to rebuild \\nAmerica--and make a real difference in your lives.\\n  For example--too many of you lay in bed at night staring at the \\nceiling wondering what will happen if your spouse gets cancer--your \\nchild gets sick--or if something happens to you. Will you have the \\nmoney to pay your medical bills? Will you have to sell the house? I get \\nit.\\n  With the Inflation Reduction Act that I signed into law--we're taking \\non powerful interests to bring your health care costs down so you can \\nsleep better at night.\\n  You know--we pay more for prescription drugs than any major country \\non Earth. For example--1 in 10 Americans has diabetes. Every day--\\nmillions need insulin to control their diabetes so they can stay alive. \\nInsulin has been around for 100 years. It costs drug companies just $10 \\na vial to make. But--Big Pharma has been unfairly charging people \\nhundreds of dollars and making record profits. Not anymore. We capped \\nthe cost of insulin at $35 a month for seniors on Medicare.\\n\\n[[Page S259]]\\n\\n  But there are millions of other Americans who are not on Medicare--\\nincluding 200,000 young people with Type I diabetes who need insulin to \\nsave their lives. Let's finish the job this time. Let's cap the cost of \\ninsulin at $35 a month--for every American who needs it!\\n  This law also caps out-of-pocket drug costs for seniors on Medicare \\nat a maximum $2,000 per year when there are in fact many drugs--like \\nexpensive cancer drugs--that can cost up to $10,000--$12,000--and \\n$14,000 a year. If drug prices rise faster than inflation--drug \\ncompanies will have to pay Medicare back the difference.\\n  And we're finally giving Medicare the power to negotiate drug prices. \\nBringing down prescription drug costs doesn't just save seniors money. \\nIt will cut the Federal deficit saving tax payers hundreds of billions \\nof dollars on the prescription drugs the Government buys for Medicare.\\n  Why wouldn't we want to do that? Now--some members here are \\nthreatening to repeal the Inflation Reduction Act. Make no mistake--if \\nyou try to do anything to raise the cost of prescription drugs--I will \\nveto it!\\n  I'm pleased to say that more Americans have health insurance now than \\never in history. A record 16 million people are enrolled under the \\nAffordable Care Act. Thanks to the law I signed last year--millions are \\nsaving $800 a year on their premiums. But the way that law was \\nwritten--that benefit expires after 2025. Let's finish the job--make \\nthose savings permanent--and expand coverage to those left off \\nMedicaid.\\n  Look--the Inflation Reduction Act--is also the most significant \\ninvestment ever--to tackle the climate crisis. Lowering utility bills--\\ncreating American jobs--and leading the world to a clean energy future.\\n  I've visited the devastating aftermaths of record floods and \\ndroughts--storms and wildfires. In addition to emergency recovery--from \\nPuerto Rico to Florida to Idaho--we are rebuilding for the long term. \\nNew electric grids--able to weather the next major storm. Roads and \\nwater systems--to withstand the next big flood. Clean energy--to cut \\npollution and create jobs in communities too often left behind.\\n  We're building 500,000 electric vehicle charging stations--installed \\nacross the country--by tens of thousands of IBEW workers. And helping \\nfamilies save more than $1,000 a year--with tax credits for the \\npurchase of electric vehicles--and energy-efficient appliances.\\n  Historic conservation efforts--to be responsible stewards of our \\nlands. Let's face reality. The climate crisis doesn't care if your \\nState is red or blue. It is an existential threat. We have an \\nobligation--to our children and grandchildren--to confront it.\\n  I'm proud of how America is at last--stepping up to the challenge. \\nBut there's so much more to do. We will finish the job!\\n  And we pay for these investments in our future by finally making the \\nwealthiest and the biggest corporations begin to pay their fair share. \\nI'm a capitalist. But just pay your fair share.\\n  And I think a lot of you at home agree with me--that our present tax \\nsystem is simply unfair. The idea that in 2020--55 of the biggest \\ncompanies in America made $40 billion in profits and paid zero in \\nFederal income taxes? That's simply not fair.\\n  But now--because of the law I signed--billion-dollar companies have \\nto pay a minimum of 15 percent. Just 15 percent. That's less than a \\nnurse pays.\\n  Let me be clear. Under my plan--nobody earning less than $400,000 a \\nyear--will pay an additional penny in taxes. Nobody. Not one penny.\\n  But there's more to do. Let's finish the job. Reward work--not just \\nwealth. Pass my proposal for a billionaire minimum tax. Because no \\nbillionaire should pay a lower tax rate than a school teacher or a \\nfirefighter.\\n  You may have noticed that Big Oil just reported record profits. Last \\nyear they made $200 billion--in the midst of a global energy crisis. \\nIt's outrageous. They invested too little of that profit to increase \\ndomestic production and keep gas prices down.\\n  Instead--they used those record profits to buy back their own stock--\\nrewarding their CEOs and shareholders. Corporations ought to do the \\nright thing. That's why I propose that we quadruple the tax on \\ncorporate stock buybacks--to encourage long term investments instead. \\nThey will still make a considerable profit.\\n  Let's finish the job and close the loopholes that allow the very \\nwealthy to avoid paying their taxes. Instead of cutting the number of \\naudits of wealthy tax payers--I signed a law that will reduce the \\ndeficit by $114 billion--by cracking down on wealthy tax cheats. That's \\nbeing fiscally responsible.\\n  In the last 2 years--my Administration cut the deficit by more than \\n$1.7 trillion--the largest deficit reduction--in American history. \\nUnder the previous administration--America's deficit went up 4 years in \\na row.\\n  Because of those record deficits--no President added more to the \\nnational debt in any 4 years than my predecessor. Nearly 25 percent of \\nthe entire national debt--a debt that took 200 years to accumulate--was \\nadded by that administration alone.\\n  How did Congress respond to all that debt? They lifted the debt \\nceiling three times without preconditions or crisis. They paid \\nAmerica's bills to prevent economic disaster for our country. Tonight--\\nI'm asking this Congress--to follow suit.\\n  Let us commit here tonight--that the full faith and credit of the \\nUnited States of America will never--ever--be questioned!\\n  Some of my Republican friends want to take the economy hostage--\\nunless I agree to their economic plans. All of you at home should know \\nwhat their plans are. Instead of making the wealthy pay their fair \\nshare--some Republicans want Medicare and Social Security to sunset \\nevery 5 years. That means if Congress doesn't vote to keep them--those \\nprograms will go away.\\n  Other Republicans say if we don't cut Social Security and Medicare \\nthey'll let America default on its debt for the first time in our \\nhistory. I won't let that happen. Social Security and Medicare are a \\nlifeline for millions of seniors. Americans have been paying into them \\nwith every single paycheck since they started working.\\n  So tonight--let's all agree to stand up for seniors. Stand up and \\nshow them--we will not cut Social Security! We will not cut Medicare!\\n  Those benefits belong to the American people. They earned them. If \\nanyone tries to cut Social Security--I will stop them. And if anyone \\ntries to cut Medicare--I will stop them. I will not allow them to be \\ntaken away. Not today. Not tomorrow. Not ever.\\n  Next month--when I offer my fiscal plan--I ask my Republican friends \\nto offer their plan. We can sit down together and discuss both plans \\ntogether. My plan will lower the deficit by $2 trillion. I won't cut a \\nsingle Social Security or Medicare benefit. In fact--I will extend the \\nMedicare Trust Fund by at least two decades.\\n  I will not raise taxes on anyone making under $400,000 a year. And I \\nwill pay for the ideas I've talked about tonight by making the wealthy \\nand big corporations begin to pay their fair share.\\n  Look--here's the deal. Big corporations aren't just taking advantage \\nof the tax code. They're taking advantage of you--the American \\nconsumer. Here's my message to all of you out there--I have your back.\\n  We're already preventing insurance companies from sending surprise \\nmedical bills--stopping 1 million surprise bills a month. We're \\nprotecting seniors' lives--and life savings--by cracking down on \\nnursing homes that commit fraud--endanger patient safety--or prescribe \\ndrugs they don't need.\\n  Millions of Americans can now save thousands of dollars because they \\ncan finally get hearing aids over-the-counter without a prescription.\\n  Capitalism without competition is not capitalism. It is exploitation.\\n  Last year I cracked down on foreign shipping companies that were \\nmaking you pay higher prices for everyday goods coming into our \\ncountry. I signed a bipartisan bill that cut shipping costs by 90 \\npercent--helping American farmers--businesses--and consumers. Let's \\nfinish the job.\\n  Pass bipartisan legislation to strengthen antitrust enforcement and \\nprevent big online platforms from giving their own products an unfair \\nadvantage. My Administration is also taking on ``junk'' fees--those \\nhidden surcharges too many businesses use to make you pay more. For \\nexample--\\n\\n[[Page S260]]\\n\\nwe're making airlines show you the full ticket price upfront and refund \\nyour money if your flight is cancelled or delayed.\\n  We've reduced exorbitant bank overdraft fees--saving consumers more \\nthan $1 billion a year. We're cutting credit card late fees by 75 \\npercent--from $30 to $8. Junk fees may not matter to the very wealthy--\\nbut they matter to most folks in homes like the one I grew up in. They \\nadd up to hundreds of dollars a month. They make it harder for you to \\npay the bills or afford that family trip. I know how unfair it feels \\nwhen a company overcharges you and gets away with it.\\n  Not anymore. We've written a bill to stop all that. It's called the \\nJunk Fee Prevention Act. We'll ban surprise ``resort fees'' that hotels \\ntack on to your bill. These fees can cost you up to $90 a night--at \\nhotels that aren't even resorts. We'll make--cable--internet--and \\ncellphone companies--stop charging you up to $200 or more when you \\ndecide to switch to another provider. We'll cap service fees on tickets \\nto concerts and sporting events and make companies disclose all fees \\nupfront.\\n  And we'll prohibit airlines from charging up to $50 roundtrip for \\nfamilies just to sit together. Baggage fees are bad enough--they can't \\njust treat your child like a piece of luggage. Americans are tired of \\nbeing played for suckers. Pass the Junk Fee Prevention Act so companies \\nstop ripping us off!\\n  For too long--workers have been getting stiffed. Not anymore. We're \\nbeginning to restore the dignity of work.\\n  For example--30 million workers had to sign non-compete agreements \\nwhen they took a job. So--a cashier at a burger place can't cross the \\nstreet to take the same job at another burger place to make a couple \\nbucks more. Not anymore. We're banning those agreements so companies \\nhave to compete for workers and pay them what they're worth.\\n  I'm so sick and tired of companies breaking the law by preventing \\nworkers from organizing. Pass the PRO Act--because workers have a right \\nto form a union.\\n  And let's guarantee all workers a living wage. Let's also make sure \\nworking parents can afford to raise a family with sick days--paid \\nfamily and medical leave--and affordable child care--that will enable \\nmillions more people to go to work. Let's also restore the full Child \\nTax Credit--which gave tens of millions of parents some breathing room \\nand cut child poverty in half--to the lowest level in history.\\n  And by the way--when we do all of these things--we increase \\nproductivity--we increase economic growth.\\n  Let's also finish the job--and get more families access to affordable \\nand quality housing. Let's get seniors who want to stay in their homes \\nthe care they need to do so. And give a little more breathing room to \\nmillions of family caregivers looking after their loved ones.\\n  Pass my plan so we get seniors and people with disabilities the home \\ncare services they need and support the workers who are doing God's \\nwork. These plans are fully paid for and we can afford to do them.\\n  Restoring the dignity of work also means making education an \\naffordable ticket to the middle class. When we made 12 years of public \\neducation universal in the last century--it made us the best-educated--\\nbest-prepared Nation in the world. But the world has caught up.\\n  Jill--who teaches full-time--has an expression--``Any nation that \\nout-educates us--will out-compete us.''\\n  Folks--you all know--12 years is not enough to win the economic \\ncompetition for the 21st Century. If you want America to have the best-\\neducated workforce--let's finish the job by providing access to pre-\\nschool for 3- and 4-year-olds.\\n  Studies show that children who go to pre-school are nearly 50 percent \\nmore likely to finish high school and go on to earn a 2- or 4-year \\ndegree--no matter their background. Let's give public school teachers a \\nraise.\\n  And--we're making progress by reducing student debt and increasing \\nPell Grants for working and middle-class families.\\n  Let's finish the job--connect students to career opportunities \\nstarting in high school--and provide 2 years of community college--some \\nof the best career training in America in addition to being a pathway \\nto a 4-year degree. Let's offer every American the path to a good \\ncareer--whether they go to college or not!\\n  And folks--in the midst of the COVID crisis--when schools were \\nclosed--let's also recognize how far we've come in the fight against \\nthe pandemic itself. While the virus is not gone--thanks to the \\nresilience of the American people--we have broken COVID's grip on us.\\n  COVID deaths are down nearly 90 percent. We've saved millions of \\nlives and opened our country back up. And soon--we'll end the public \\nhealth emergency.\\n  But we will remember the toll and pain that will never go away for so \\nmany. More than 1 million Americans have lost their lives to COVID. \\nFamilies grieving. Children orphaned. Empty chairs at the dining room \\ntable. We remember them--and we remain vigilant.\\n  We still need to monitor dozens of variants and support new vaccines \\nand treatments. So--Congress needs to fund these efforts and keep \\nAmerica safe!\\n  And as we emerge from this crisis stronger--I'm also doubling down on \\nprosecuting criminals who stole relief money meant to keep workers and \\nsmall businesses afloat during the pandemic.\\n  Before I came to office--many inspectors general--who protect \\ntaxpayer dollars--were sidelined. Fraud was rampant.\\n  Last year--I told you the watchdogs are back. Since then--we've \\nrecovered billions of taxpayer dollars.\\n  Now--let's triple our anti-fraud strike forces going after these \\ncriminals--double the statute of limitations on these crimes--and crack \\ndown on identity fraud by criminal syndicates stealing billions of \\ndollars from the American people. For every dollar we put into fighting \\nfraud--taxpayers get back at least 10 times as much.\\n  COVID left other scars--like the spike in violent crime in 2020--the \\nfirst year of the pandemic. We have an obligation to make sure all our \\npeople are safe. Public safety depends on public trust. But too often--\\nthat trust is violated.\\n  Joining us tonight are the parents of Tyre Nichols--who had to bury \\nhim just last week. There are no words to describe the heartbreak and \\ngrief of losing a child. But--imagine what it's like to lose a child at \\nthe hands of the law. Imagine having to worry whether your son or \\ndaughter will come home from walking down the street--or playing in the \\npark--or just driving their car.\\n  I've never had to have the talk with my children--Beau, Hunter, and \\nAshley--that so many Black and Brown families have had with their \\nchildren. If a police officer pulls you over--turn on your interior \\nlights. Don't reach for your license. Keep your hands on the steering \\nwheel.\\n  Imagine having to worry like that every day--in America.\\n  Here's what Tyre's Mom shared with me when I asked her how she finds \\nthe courage to carry on and speak out. With faith in God--she said her \\nson--``was a beautiful soul--and something good will come from this.''\\n  Imagine how much courage and character that takes.\\n  It's up to us. It's up to all of us.\\n  We all want the same thing. Neighborhoods free of violence. Law \\nenforcement who earn the community's trust. Our children to come home \\nsafely.\\n  Equal protection under the law--that's the covenant we have with each \\nother in America. And we know police officers put their lives on the \\nline every day --and we ask them to do too much. To be counselors, \\nsocial workers, psychologists--responding to drug overdoses, mental \\nhealth crises, and more. We ask too much of them. But what happened to \\nTyre in Memphis happens too often. We have to do better.\\n  Give law enforcement the training they need--hold them to higher \\nstandards--and help them succeed in keeping everyone safe.\\n  We also need more first responders and other professionals to address \\ngrowing mental health and substance abuse challenges. More resources to \\nreduce violent crime and gun crime--more community intervention \\nprograms--more investments in housing, education, and job training. All \\nthis can help prevent violence in the first place.\\n  And when police officers or departments violate the public's trust--\\nwe\\n\\n[[Page S261]]\\n\\nmust hold them accountable. With the support of families of victims--\\ncivil rights groups--and law enforcement--I signed an Executive Order \\nfor all Federal officers. Banning chokeholds--restricting no-knock \\nwarrants--and other key elements of the--George Floyd Act.\\n  Let's commit ourselves to make the words of Tyre's mother come true--\\nsomething good must come from this. All of us in this chamber--we need \\nto rise to this moment. We can't turn away. Let's do what we know in \\nour hearts we need to do. Let's come together and finish the job on \\npolice reform. Do something. That was the same plea of parents who lost \\ntheir children in Uvalde--do something on gun violence.\\n  Thank God we did--passing the most sweeping gun safety law in three \\ndecades. That includes things that the majority of responsible gun \\nowners support like--enhanced background checks for 18- to 21-year-\\nolds--and red flag laws keeping guns out of the hands of people who are \\na danger to themselves and others.\\n  But we know our work is not done.\\n  Joining us tonight is Brandon Tsay--a 26-year-old hero. Brandon put \\noff his college dreams to stay by his mom's side as she was dying from \\ncancer. He now works at a dance studio started by his grandparents. Two \\nweeks ago--during Lunar New Year celebrations--he heard the studio's \\nfront door close and saw a man pointing a gun at him. He thought he was \\ngoing to die--but then he thought about the people inside. In that \\ninstant--he found the courage to act--and wrestled the semi-automatic \\npistol away from a gunman who had already killed 11 people at another \\ndance studio.\\n  He saved lives. It's time we do the same as well. Ban assault weapons \\nonce and for all!\\n  We did it before. I led the fight to ban them in 1994. In the 10 \\nyears the ban was law--mass shootings went down. After Republicans let \\nit expire--mass shootings tripled.\\n  Let's finish the job--and ban assault weapons again!\\n  And let's also come together on immigration--and make it a bipartisan \\nissue like it was before. We now have a record number of personnel \\nworking to secure the border--arresting 8,000 human smugglers and \\nseizing over 23,000 pounds of fentanyl in just the last several months.\\n  Since we launched our new border plan last month--unlawful migration \\nfrom Cuba--Haiti--Nicaragua--and Venezuela has come down 97 percent.\\n  But America's border problems won't be fixed until Congress acts. If \\nyou won't pass my comprehensive immigration reform--at least pass my \\nplan to provide the equipment and officers to secure the border. And a \\npathway to citizenship for Dreamers--those on temporary status--farm \\nworkers--and essential workers.\\n  Here in the people's House--it's our duty to protect all the people's \\nrights and freedoms. Congress must restore the right the Supreme Court \\ntook away last year--and codify Roe v. Wade to protect every woman's \\nconstitutional right to choose.\\n  The Vice President and I are doing everything we can to protect \\naccess to reproductive health care and safeguard patient privacy. But \\nalready--more than a dozen States are enforcing extreme abortion bans. \\nMake no mistake. If Congress passes a national abortion ban--I will \\nveto it!\\n  Let's also pass the bipartisan Equality Act to ensure LGBTQ \\nAmericans--especially transgender young people--can live with safety \\nand dignity.\\n  Our strength is not just the example of our power--but the power of \\nour example. Let's remember--the world is watching.\\n  I spoke from this chamber 1 year ago--just days after Vladimir Putin \\nunleashed his brutal war against Ukraine. A murderous assault--evoking \\nimages of the death and destruction Europe suffered in World War II. \\nPutin's invasion has been a test for the ages. A test for America. A \\ntest for the world.\\n  Would we stand for the most basic of principles? Would we stand for \\nsovereignty? Would we stand for the right of people to live free from \\ntyranny? Would we stand for the defense of democracy?\\n  For such a defense matters to us--because it keeps the peace and \\nprevents open season for would-be aggressors to threaten our security \\nand prosperity.\\n  One year later--we know the answer. Yes--we would. And yes--we did. \\nTogether--we did what America always does at our best. We led. We \\nunited NATO--and built a global coalition. We stood against Putin's \\naggression. We stood with the Ukrainian people.\\n  Tonight--we are once again joined by Ukraine's Ambassador to the \\nUnited States. She represents not just her nation--but the courage of \\nher people. Ambassador--America is united in our support for your \\ncountry. We will stand with you--as long as it takes!!\\n  Our Nation is working for more freedom--more dignity--and more \\npeace--not just in Europe--but everywhere. Before I came to office--the \\nstory was about how the People's Republic of China was increasing its \\npower--and America was falling in the world. Not anymore. I've made \\nclear with President Xi that we seek competition--not conflict.\\n  I will make no apologies that we are investing to make America \\nstrong. Investing in American innovation--in industries that will \\ndefine the future--and that China's government is intent on dominating. \\nInvesting in our alliances and working with our allies to protect our \\nadvanced technologies--so they're not used against us. Modernizing our \\nmilitary to safeguard stability and deter aggression.\\n  Today--we're in the strongest position in decades to compete with \\nChina--or anyone else in the world. I am committed to work with China--\\nwhere it can advance American interests and benefit the world.\\n  But make no mistake. As we made clear last week--if China threatens \\nour sovereignty--we will act to protect our country. And we did! And \\nlet's be clear. Winning the competition with China should unite all of \\nus.\\n  We face serious challenges across the world. But in the past 2 \\nyears--democracies have become stronger--not weaker. Autocracies have \\ngrown weaker--not stronger. America is rallying the world again to meet \\nthose challenges--from climate and global health to food insecurity--to \\nterrorism and territorial aggression.\\n  Allies are stepping up--spending more--and doing more. And bridges \\nare forming between partners in the Pacific and those in the Atlantic. \\nAnd those who bet against America are learning just how wrong they are. \\nIt's never a good bet--to bet against America.\\n  When I came to office--most everyone assumed bipartisanship was \\nimpossible. But I never believed it. That's why a year ago--I offered a \\nUnity Agenda for the Nation. We've made real progress.\\n  Together--we passed a law making it easier for doctors to prescribe \\neffective treatments for opioid addiction. Passed a gun safety law--\\nmaking historic investments in mental health. Launched ARPA-H to drive \\nbreakthroughs in the fight against cancer--Alzheimer's--diabetes--and \\nso much more.\\n  We passed the Heath Robinson PACT Act--named for the late Iraq war \\nveteran whose story about exposure to toxic burn pits I shared here \\nlast year.\\n  But there is so much more to do. And we can do it together.\\n  Joining us tonight is a father named Doug from Newton, New Hampshire. \\nHe wrote Jill and me a letter about his daughter Courtney. Contagious \\nlaugh. Her sister's best friend. He shared a story all too familiar to \\nmillions of Americans. Courtney discovered pills in high school--it \\nspiraled into addiction--and eventually her death from a fentanyl \\noverdose. She was 20 years old. Describing the last 8 years without \\nher--Doug said--``There is no worse pain.''\\n  Yet--their family has turned pain into purpose--working to end stigma \\nand change laws. He told us he wants to ``start the journey towards \\nAmerica's recovery.'' Doug--we're with you.\\n  Fentanyl is killing more than 70,000 Americans a year.\\n  Let's launch a major surge to stop fentanyl production--sale--and \\ntrafficking. With more drug detection machines to inspect cargo and \\nstop pills and powder at the border. Working with couriers like Fed Ex \\nto inspect more packages for drugs. Strong penalties to crack down on \\nfentanyl trafficking.\\n  Second--let's do more on mental health--especially for our children. \\nWhen millions of young people are\\n\\n[[Page S262]]\\n\\nstruggling with bullying--violence--trauma--we owe them greater access \\nto mental health care at school.\\n  We must finally hold social media companies accountable for the \\nexperiment they are running on our children for profit.\\n  And it's time to pass bipartisan legislation to stop Big Tech from \\ncollecting personal data on kids and teenagers online--ban targeted \\nadvertising to children--and impose stricter limits on the personal \\ndata these companies collect on all of us.\\n  Third--let's do more to keep our Nation's one truly sacred \\nobligation--to equip those we send into harm's way and care for them \\nand their families when they come home.\\n  Job training and job placement for veterans and their spouses as they \\nreturn to civilian life. Helping veterans afford their rent--because no \\none should be homeless in this country--especially not those who served \\nit.\\n  And we cannot go on losing 17 veterans a day to the silent scourge of \\nsuicide. The VA is doing everything it can--including expanding mental \\nhealth screenings--and a proven program that recruits veterans to help \\nother veterans understand what they're going through and get the help \\nthey need.\\n  And fourth--last year Jill and I re-ignited the Cancer Moonshot that \\nPresident Obama asked me to lead in our administration.\\n  Our goal is to cut the cancer death rate by at least 50 percent over \\nthe next 25 years. Turn more cancers from death sentences into \\ntreatable diseases. And provide more support for patients and families.\\n  It's personal for so many of us.\\n  Joining us are Maurice and Kandice. An Irishman--and a daughter of \\nimmigrants from Panama. They met and fell in love in New York City--and \\ngot married in the same chapel as Jill and I did. Kindred spirits. He \\nwrote us a letter about their little daughter Ava. She was just a year \\nold when she was diagnosed with a rare kidney cancer. 26 blood \\ntransfusions. 11 rounds of radiation. 8 rounds of chemo. 1 kidney \\nremoved. A 5 percent survival rate.\\n  He wrote how in the darkest moments he thought--``if she goes, I \\ncan't stay.'' Jill and I understand--like so many of you. They read how \\nJill described our family's cancer journey--and how we tried to steal \\nmoments of joy where you can.\\n  For them--that glimmer of joy was a half-smile from their baby girl. \\nIt meant everything. They never gave up hope. Ava never gave up hope. \\nShe turns 4 next month.\\n  They just found out that Ava beat the odds--and is on her way to \\nbeing cancer-free--and she's watching from the White House tonight.\\n  For the lives we can save--and for the lives we have lost--let this \\nbe a truly American moment that rallies the country and the world \\ntogether and proves that we can do big things.\\n  Twenty years ago--under the leadership of President Bush and \\ncountless advocates and champions--we undertook a bipartisan effort \\nthrough PEPFAR to transform the global fight against HIV/AIDS. It's \\nbeen a huge success. I believe we can do the same with cancer. Let's \\nend cancer as we know it--and cure some cancers once and for all.\\n  There's one reason why we're able to do all of these things--our \\ndemocracy itself. It's the most fundamental thing of all. With \\ndemocracy--everything is possible . Without it--nothing is.\\n  For the last few years--our democracy has been threatened--attacked--\\nand put at risk. Put to the test here--in this very room--on January \\n6th.\\n  And then--just a few months ago--unhinged by the Big Lie--an \\nassailant unleashed political violence in the home of the then-Speaker \\nof this House of Representatives. Using the very same language that \\ninsurrectionists who stalked these halls chanted on January 6th.\\n  Here tonight--in this chamber--is the man who bears the scars of that \\nbrutal attack--but is as tough and strong and as resilient as they get. \\nMy friend--Paul Pelosi.\\n  But such a heinous act never should have happened. We must all speak \\nout--there is no place for political violence in America.\\n  In America--we must protect the right to vote--not suppress that \\nfundamental right. We honor the results of our elections--not subvert \\nthe will of the people. We must uphold the rule of the law and restore \\ntrust in our institutions of democracy.\\n  And--we must give hate and extremism in any form no safe harbor. \\nDemocracy must not be a partisan issue. It must be an American issue.\\n  Every generation of Americans has faced a moment where they have been \\ncalled on to protect our democracy--to defend it--to stand up for it. \\nAnd--this is our moment.\\n  My fellow Americans--we meet tonight at an inflection point. One of \\nthose moments that only a few generations ever face--where the \\ndecisions we make now will decide the course of this Nation--and of the \\nworld--for decades to come.\\n  We are not bystanders to history. We are not powerless before the \\nforces that confront us. It is within our power--of We the People.\\n  We are facing the test of our time--and the time for choosing is at \\nhand. We must be the Nation we have always been at our best. \\nOptimistic. Hopeful. Forward-looking.\\n  A Nation that embraces light over darkness--hope over fear--unity \\nover division. Stability over chaos.\\n  We must see each other not as enemies but as fellow Americans. We are \\na good people--the only Nation in the world built on an idea.\\n  That all of us--every one of us--is created equal in the image of \\nGod. A Nation that stands as a beacon to the world. A Nation in a new \\nage of possibilities.\\n  So I have come here to fulfil my constitutional duty to report on the \\nState of the Union.\\n  And here is my report. Because the soul of this Nation is strong--\\nbecause the backbone of this Nation is strong--because the people of \\nthis Nation are strong--The State of the Union is strong!\\n  As I stand here tonight--I have never been more optimistic about the \\nfuture of America. We just have to remember who we are. We are the \\nUnited States of America--and there is nothing--nothing--beyond our \\ncapacity--if we do it together!\\n  May God bless you all.\\n  May God protect our troops.\\n                                                Joseph R. Biden, Jr.,  \\nThe White House, February 7, 2023.\\n\\n                          ____________________\\n\\n\\n\\n\",\n",
       " 'date_iso': '2023-02-07'}"
      ]
     },
     "execution_count": 4,
     "metadata": {},
     "output_type": "execute_result"
    }
   ],
   "source": [
    "import pickle\n",
    "\n",
    "PICKLE_FILE = \"./STATE_OF_THE_UNION.pickle\"\n",
    "\n",
    "speeches = None\n",
    "with open(PICKLE_FILE, 'rb') as f:\n",
    "    speeches = pickle.load(f)\n",
    "\n",
    "## let's look at the first speech\n",
    "speeches[0]"
   ]
  },
  {
   "cell_type": "markdown",
   "metadata": {},
   "source": [
    "## Insert the first document into a new index without setting the mapping"
   ]
  },
  {
   "cell_type": "code",
   "execution_count": 5,
   "metadata": {},
   "outputs": [
    {
     "name": "stdout",
     "output_type": "stream",
     "text": [
      "Document indexed with ID: CoCuzIoBsv39V8zkWYzW\n"
     ]
    }
   ],
   "source": [
    "# Name of the index you're looking for\n",
    "index_name = 'genai_delete_me'\n",
    "\n",
    "# let's start fresh\n",
    "if es.indices.exists(index=index_name):\n",
    "    print(f\"Index '{index_name}' exists. Deleting...\")\n",
    "    # Delete the index\n",
    "    es.indices.delete(index=index_name)\n",
    "    print(f\"Index '{index_name}' deleted.\")\n",
    "\n",
    "response = es.index(index=index_name, document=speeches[0])\n",
    "print(f\"Document indexed with ID: {response['_id']}\")"
   ]
  },
  {
   "cell_type": "markdown",
   "metadata": {},
   "source": [
    "It looks like things worked fine, but let's look at the mapping that was created"
   ]
  },
  {
   "cell_type": "code",
   "execution_count": 11,
   "metadata": {},
   "outputs": [
    {
     "name": "stdout",
     "output_type": "stream",
     "text": [
      "{\n",
      "    \"genai_delete_me\": {\n",
      "        \"mappings\": {\n",
      "            \"properties\": {\n",
      "                \"administration\": {\n",
      "                    \"type\": \"text\",\n",
      "                    \"fields\": {\n",
      "                        \"keyword\": {\n",
      "                            \"type\": \"keyword\",\n",
      "                            \"ignore_above\": 256\n",
      "                        }\n",
      "                    }\n",
      "                },\n",
      "                \"date\": {\n",
      "                    \"type\": \"text\",\n",
      "                    \"fields\": {\n",
      "                        \"keyword\": {\n",
      "                            \"type\": \"keyword\",\n",
      "                            \"ignore_above\": 256\n",
      "                        }\n",
      "                    }\n",
      "                },\n",
      "                \"date_iso\": {\n",
      "                    \"type\": \"date\"\n",
      "                },\n",
      "                \"text\": {\n",
      "                    \"type\": \"text\",\n",
      "                    \"fields\": {\n",
      "                        \"keyword\": {\n",
      "                            \"type\": \"keyword\",\n",
      "                            \"ignore_above\": 256\n",
      "                        }\n",
      "                    }\n",
      "                },\n",
      "                \"url\": {\n",
      "                    \"type\": \"text\",\n",
      "                    \"fields\": {\n",
      "                        \"keyword\": {\n",
      "                            \"type\": \"keyword\",\n",
      "                            \"ignore_above\": 256\n",
      "                        }\n",
      "                    }\n",
      "                }\n",
      "            }\n",
      "        }\n",
      "    }\n",
      "}\n"
     ]
    }
   ],
   "source": [
    "import json\n",
    "# pretty printing JSON objects\n",
    "def json_pretty(input_object):\n",
    "  print(json.dumps(input_object, indent=4))\n",
    "\n",
    "mapping = es.indices.get_mapping(index=index_name)\n",
    "json_pretty(mapping.body)"
   ]
  },
  {
   "cell_type": "markdown",
   "metadata": {},
   "source": [
    "When Elasticsearch gets index requests without any preparation or schema it guesses at the field types based on the first document received. This can be problematic\n",
    "\n",
    "You may need to expand the output to see the full mapping that was created. Observe the following\n",
    "\n",
    "```json\n",
    "\"text\": {\n",
    "    \"type\": \"text\",\n",
    "    \"fields\": {\n",
    "        \"keyword\": {\n",
    "            \"type\": \"keyword\",\n",
    "            \"ignore_above\": 256\n",
    "        }\n",
    "    }\n",
    "}\n",
    "```\n",
    "\n",
    "The actual speech is being indexed as both full text and a keyword. The keyword mapping is both truncated and wasteful.  \n",
    "\n",
    "```json\n",
    "\"date\": {\n",
    "    \"type\": \"text\",\n",
    "    \"fields\": {\n",
    "        \"keyword\": {\n",
    "            \"type\": \"keyword\",\n",
    "            \"ignore_above\": 256\n",
    "        }\n",
    "    }\n",
    "},\n",
    "\"date_iso\": {\n",
    "    \"type\": \"date\"\n",
    "}\n",
    "```\n",
    "\n",
    "The first date with values like ```'date': 'February 7, 2023'``` is a guessed as a string and gets the server default mapping.  The keyword value here may actually be useful for fast search faceting as it is a unique value as long as it is spelled and capitalized correctly across all records.\n",
    "\n",
    "Let's do this again with an explicit mapping so that we are controlling how the data is indexed and not relying on the luck of Elasticsearch guessing mappings."
   ]
  },
  {
   "cell_type": "code",
   "execution_count": 17,
   "metadata": {},
   "outputs": [
    {
     "name": "stdout",
     "output_type": "stream",
     "text": [
      "Document indexed with ID: hR7RzIoBz9aOWw2c116t\n",
      "{\n",
      "    \"genai_state_of_the_union\": {\n",
      "        \"mappings\": {\n",
      "            \"properties\": {\n",
      "                \"administration\": {\n",
      "                    \"type\": \"keyword\"\n",
      "                },\n",
      "                \"date\": {\n",
      "                    \"type\": \"keyword\"\n",
      "                },\n",
      "                \"date_iso\": {\n",
      "                    \"type\": \"date\"\n",
      "                },\n",
      "                \"text\": {\n",
      "                    \"type\": \"text\"\n",
      "                },\n",
      "                \"url\": {\n",
      "                    \"type\": \"text\",\n",
      "                    \"fields\": {\n",
      "                        \"keyword\": {\n",
      "                            \"type\": \"keyword\",\n",
      "                            \"ignore_above\": 1024\n",
      "                        }\n",
      "                    }\n",
      "                }\n",
      "            }\n",
      "        }\n",
      "    }\n",
      "}\n",
      "Index 'genai_state_of_the_union' exists. Deleting...\n",
      "Index 'genai_state_of_the_union' deleted.\n"
     ]
    }
   ],
   "source": [
    "# let's start fresh\n",
    "def delete_index(index_name):\n",
    "    if es.indices.exists(index=index_name):\n",
    "        print(f\"Index '{index_name}' exists. Deleting...\")\n",
    "        # Delete the index\n",
    "        es.indices.delete(index=index_name)\n",
    "        print(f\"Index '{index_name}' deleted.\")\n",
    "\n",
    "def create_index_with_mapping(index_name, properties):\n",
    "    # Check if the index exists, and if not, create it\n",
    "    if not es.indices.exists(index=index_name):\n",
    "        es.indices.create(index=index_name)\n",
    "    \n",
    "    response = es.indices.put_mapping(properties=properties, index=index_name, )\n",
    "    # Define your mapping\n",
    "\n",
    "properties = {\n",
    "            \"administration\":   {\"type\": \"keyword\"},\n",
    "            \"date\":             {\"type\": \"keyword\"},\n",
    "            \"date_iso\":         {\"type\": \"date\"},\n",
    "            \"text\":             {\"type\": \"text\"},\n",
    "            \"url\":  {\n",
    "                        \"type\": \"text\",\n",
    "                        \"fields\": {\n",
    "                            \"keyword\": {\n",
    "                                \"type\": \"keyword\",\n",
    "                                \"ignore_above\": 1024\n",
    "                            }\n",
    "                        }\n",
    "                    }              \n",
    "        }\n",
    "\n",
    "delete_index(index_name=index_name)\n",
    "create_index_with_mapping(index_name=index_name, properties=properties)\n",
    "\n",
    "response = es.index(index=index_name, document=speeches[0])\n",
    "print(f\"Document indexed with ID: {response['_id']}\")\n",
    "mapping = es.indices.get_mapping(index=index_name)\n",
    "json_pretty(mapping.body)\n",
    "\n",
    "## clean up\n",
    "delete_index(index_name=index_name)\n"
   ]
  },
  {
   "cell_type": "markdown",
   "metadata": {},
   "source": [
    "## Batch inserting all of the documents\n",
    "\n",
    "Now we'll use the batch insertion commands of the elasticsearch Python library to insert documents into Elasticsearch.\n",
    "\n",
    "Batch insertion is more efficient than inserting documents one at a time. If you need to go faster then adjusting the index settings to prevent near real-time refreshes during a big batch insert will get you more preformance.  At this scale, we don't care."
   ]
  },
  {
   "cell_type": "code",
   "execution_count": 18,
   "metadata": {},
   "outputs": [
    {
     "name": "stderr",
     "output_type": "stream",
     "text": [
      "Batches of size 10: 100%|██████████| 4/4 [00:00<00:00,  6.20it/s]\n"
     ]
    }
   ],
   "source": [
    "from elasticsearch import Elasticsearch, helpers\n",
    "from tqdm import tqdm\n",
    "\n",
    "index_name = \"genai_state_of_the_union\"\n",
    "\n",
    "delete_index(index_name=index_name)\n",
    "create_index_with_mapping(index_name=index_name, properties=properties)\n",
    "\n",
    "BATCH_SIZE = 10  # Set your desired batch size here\n",
    "\n",
    "def batchify(docs, batch_size):\n",
    "    for i in range(0, len(docs), batch_size):\n",
    "        yield docs[i:i + batch_size]\n",
    "\n",
    "def bulkLoadIndex(index_name, json_docs ):\n",
    "    batches = list(batchify(json_docs, BATCH_SIZE))\n",
    "\n",
    "    for batch in tqdm(batches, desc=f\"Batches of size {BATCH_SIZE}\"):\n",
    "        # Convert the JSON documents to the format required for bulk insertion\n",
    "        bulk_docs = [\n",
    "            {\n",
    "                \"_op_type\": \"index\",\n",
    "                \"_index\": index_name,\n",
    "                \"_source\": doc\n",
    "            }\n",
    "            for doc in batch\n",
    "        ]\n",
    "\n",
    "        # Perform bulk insertion\n",
    "        success, errors =  helpers.bulk(es, bulk_docs, raise_on_error=False)\n",
    "        if errors:\n",
    "            for error in errors:\n",
    "                print(error)\n",
    "\n",
    "bulkLoadIndex(index_name=index_name, json_docs=speeches)"
   ]
  },
  {
   "cell_type": "markdown",
   "metadata": {},
   "source": [
    "Okay let's now retrieve some documents using a search"
   ]
  },
  {
   "cell_type": "code",
   "execution_count": 28,
   "metadata": {},
   "outputs": [
    {
     "name": "stdout",
     "output_type": "stream",
     "text": [
      "{\n",
      "    \"total\": {\n",
      "        \"value\": 11,\n",
      "        \"relation\": \"eq\"\n",
      "    },\n",
      "    \"max_score\": 2.035987,\n",
      "    \"hits\": [\n",
      "        {\n",
      "            \"_index\": \"genai_state_of_the_union\",\n",
      "            \"_id\": \"hx7SzIoBz9aOWw2cTF5M\",\n",
      "            \"_score\": 2.035987,\n",
      "            \"_source\": {\n",
      "                \"date\": \"March 1, 2022\",\n",
      "                \"administration\": \"Biden\",\n",
      "                \"url\": \"https://www.govinfo.gov/content/pkg/DCPD-202200127/html/DCPD-202200127.htm\"\n",
      "            }\n",
      "        },\n",
      "        {\n",
      "            \"_index\": \"genai_state_of_the_union\",\n",
      "            \"_id\": \"mB7SzIoBz9aOWw2cTV4z\",\n",
      "            \"_score\": 1.5143226,\n",
      "            \"_source\": {\n",
      "                \"date\": \"February 7, 2005\",\n",
      "                \"administration\": \"Bush43\",\n",
      "                \"url\": \"https://www.govinfo.gov/content/pkg/WCPD-2005-02-07/html/WCPD-2005-02-07-Pg126.htm\"\n",
      "            }\n",
      "        },\n",
      "        {\n",
      "            \"_index\": \"genai_state_of_the_union\",\n",
      "            \"_id\": \"jR7SzIoBz9aOWw2cTF5M\",\n",
      "            \"_score\": 1.4489859,\n",
      "            \"_source\": {\n",
      "                \"date\": \"January 12, 2016\",\n",
      "                \"administration\": \"Obama\",\n",
      "                \"url\": \"https://www.govinfo.gov/content/pkg/DCPD-201600012/html/DCPD-201600012.htm\"\n",
      "            }\n",
      "        },\n",
      "        {\n",
      "            \"_index\": \"genai_state_of_the_union\",\n",
      "            \"_id\": \"jh7SzIoBz9aOWw2cTF5M\",\n",
      "            \"_score\": 1.3890541,\n",
      "            \"_source\": {\n",
      "                \"date\": \"January 20, 2015\",\n",
      "                \"administration\": \"Obama\",\n",
      "                \"url\": \"https://www.govinfo.gov/content/pkg/DCPD-201500036/html/DCPD-201500036.htm\"\n",
      "            }\n",
      "        },\n",
      "        {\n",
      "            \"_index\": \"genai_state_of_the_union\",\n",
      "            \"_id\": \"ox7SzIoBz9aOWw2cTV7P\",\n",
      "            \"_score\": 1.3890541,\n",
      "            \"_source\": {\n",
      "                \"date\": \"January 31, 1994\",\n",
      "                \"administration\": \"Clinton\",\n",
      "                \"url\": \"https://www.govinfo.gov/content/pkg/WCPD-1994-01-31/html/WCPD-1994-01-31-Pg148.htm\"\n",
      "            }\n",
      "        }\n",
      "    ]\n",
      "}\n"
     ]
    }
   ],
   "source": [
    "query = {\n",
    "    \"query_string\": {\n",
    "      \"query\": \"Ukraine\",\n",
    "      \"default_field\": \"*\"\n",
    "    }\n",
    "  }\n",
    "source_fields = [\"administration\",\"url\",\"date\"]\n",
    "size = 5\n",
    "response = es.search(\n",
    "    index=index_name, \n",
    "    query=query, \n",
    "    source=source_fields,\n",
    "    size=size)\n",
    "json_pretty(response[\"hits\"])"
   ]
  },
  {
   "cell_type": "markdown",
   "metadata": {},
   "source": [
    "## We'll learn more about Streamlit\n",
    "\n",
    "but we won't do it in the python notebook.  Let's go back to the README file for this week\n",
    "\n"
   ]
  }
 ],
 "metadata": {
  "kernelspec": {
   "display_name": "env",
   "language": "python",
   "name": "python3"
  },
  "language_info": {
   "codemirror_mode": {
    "name": "ipython",
    "version": 3
   },
   "file_extension": ".py",
   "mimetype": "text/x-python",
   "name": "python",
   "nbconvert_exporter": "python",
   "pygments_lexer": "ipython3",
   "version": "3.9.12"
  },
  "orig_nbformat": 4
 },
 "nbformat": 4,
 "nbformat_minor": 2
}
