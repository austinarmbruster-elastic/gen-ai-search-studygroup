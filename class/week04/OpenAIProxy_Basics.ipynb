{
 "cells": [
  {
   "cell_type": "markdown",
   "metadata": {},
   "source": [
    "## OpeanAI Proxy\n",
    "\n",
    "You may have access to a large langugage model through a HTTP Proxy like this one\n",
    "https://github.com/derickson/ExpressOpenAIChatProxy\n",
    "\n",
    "Assuming you know the URL for where it is hosted and the KEY for the proxy here is the code for using it.\n",
    "\n",
    "your .env file will need this\n",
    "\n",
    "```\n",
    "PROXY_OPENAI_API_KEY=\"YOUR KEY\"\n",
    "PROXY_OPENAI_API_BASE=\"HTTPS://YOUR URL ENDING IN /v1\"\n",
    "```\n"
   ]
  },
  {
   "cell_type": "code",
   "execution_count": 1,
   "metadata": {},
   "outputs": [],
   "source": [
    "! pip install -q openai\n",
    "import os\n",
    "import openai\n",
    "from dotenv import load_dotenv"
   ]
  },
  {
   "cell_type": "code",
   "execution_count": 2,
   "metadata": {},
   "outputs": [
    {
     "name": "stdout",
     "output_type": "stream",
     "text": [
      "This proxy does not implement that function {\"error\":{\"message\":\"This proxy does not implement that function\",\"type\":\"server_error\",\"param\":null,\"code\":null}} 501 {'error': {'message': 'This proxy does not implement that function', 'type': 'server_error', 'param': None, 'code': None}} {'Server': 'nginx/1.18.0', 'Date': 'Wed, 27 Sep 2023 20:50:14 GMT', 'Content-Type': 'application/json; charset=utf-8', 'Content-Length': '114', 'Connection': 'keep-alive', 'X-Powered-By': 'Express', 'Access-Control-Allow-Origin': '*', 'Access-Control-Allow-Headers': '*', 'Access-Control-Allow-Methods': '*', 'ETag': 'W/\"72-PQ+xG5pGUax7Y5zcJgBf2z8MK3k\"'}\n"
     ]
    }
   ],
   "source": [
    "## OpenAI libraries like for either the environment variable or the openai.api_key to be set\n",
    "load_dotenv(\".env\", override=True)\n",
    "openai.api_key = os.environ[\"PROXY_OPENAI_API_KEY\"]\n",
    "openai.api_base = os.environ[\"PROXY_OPENAI_API_BASE\"]\n",
    "\n",
    "## test it works by asking OpenAI what models are available\n",
    "try:\n",
    "    openai.Model.list()\n",
    "except Exception as e:\n",
    "    print(e)\n",
    "\n",
    "## an error here is expected. the proxy may not implement all options the OpenAI does"
   ]
  },
  {
   "cell_type": "code",
   "execution_count": 3,
   "metadata": {},
   "outputs": [
    {
     "data": {
      "text/plain": [
       "<OpenAIObject chat.completion id=org-XgNfVSPABHhKCJkybUHsrybj at 0x10c671a90> JSON: {\n",
       "  \"id\": \"org-XgNfVSPABHhKCJkybUHsrybj\",\n",
       "  \"object\": \"chat.completion\",\n",
       "  \"created\": 1695846500,\n",
       "  \"model\": \"gpt-35-turbo\",\n",
       "  \"choices\": [\n",
       "    {\n",
       "      \"index\": 0,\n",
       "      \"finish_reason\": \"stop\",\n",
       "      \"message\": {\n",
       "        \"role\": \"assistant\",\n",
       "        \"content\": \"The color of the sky can vary depending on the time of day and atmospheric conditions. During clear, sunny days, the sky appears blue. However, at sunrise or sunset, it can appear orange, pink, or purple.\"\n",
       "      }\n",
       "    }\n",
       "  ],\n",
       "  \"usage\": {\n",
       "    \"completion_tokens\": 45,\n",
       "    \"prompt_tokens\": 13,\n",
       "    \"total_tokens\": 58\n",
       "  }\n",
       "}"
      ]
     },
     "execution_count": 3,
     "metadata": {},
     "output_type": "execute_result"
    }
   ],
   "source": [
    "openai.default_model = \"gpt-3.5-turbo\"\n",
    "\n",
    "openai.ChatCompletion.create(\n",
    "                        model=openai.default_model,\n",
    "                        max_tokens=100,\n",
    "                        messages=[{\"role\": \"user\", \"content\":\"What color is the sky?\"}]\n",
    "                      )"
   ]
  },
  {
   "cell_type": "code",
   "execution_count": 4,
   "metadata": {},
   "outputs": [
    {
     "data": {
      "text/plain": [
       "'The color of the sky is purple today.'"
      ]
     },
     "execution_count": 4,
     "metadata": {},
     "output_type": "execute_result"
    }
   ],
   "source": [
    "retrieved_context = \"The color of the sky is purple today\"\n",
    "\n",
    "\n",
    "system_prompt = f\"\"\"\n",
    "You are a helpful AI assistant that answers questions using the provided context.\n",
    "If you can't answer the question using the provided context, say \"I don't know\".\n",
    "Don't apologize, and don't say you are an AI assistant.\n",
    "\n",
    "Context: {retrieved_context}\n",
    "\"\"\"\n",
    "\n",
    "question = \"What is the sky like today?\"\n",
    "\n",
    "messages = [\n",
    "    {\"role\":\"system\", \"content\": system_prompt},\n",
    "    {\"role\":\"user\", \"content\": question}\n",
    "]\n",
    "\n",
    "response = openai.ChatCompletion.create(\n",
    "                        model=openai.default_model,\n",
    "                        max_tokens=100,\n",
    "                        temperature=0,\n",
    "                        messages=messages\n",
    "                      )\n",
    "\n",
    "response[\"choices\"][0][\"message\"][\"content\"]"
   ]
  }
 ],
 "metadata": {
  "kernelspec": {
   "display_name": "env",
   "language": "python",
   "name": "python3"
  },
  "language_info": {
   "codemirror_mode": {
    "name": "ipython",
    "version": 3
   },
   "file_extension": ".py",
   "mimetype": "text/x-python",
   "name": "python",
   "nbconvert_exporter": "python",
   "pygments_lexer": "ipython3",
   "version": "3.9.12"
  },
  "orig_nbformat": 4
 },
 "nbformat": 4,
 "nbformat_minor": 2
}
